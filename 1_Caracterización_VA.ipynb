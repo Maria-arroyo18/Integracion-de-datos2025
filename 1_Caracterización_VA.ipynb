{
  "nbformat": 4,
  "nbformat_minor": 0,
  "metadata": {
    "colab": {
      "provenance": [],
      "authorship_tag": "ABX9TyNPct2wKAyKHCCJlFBCt8cU",
      "include_colab_link": true
    },
    "kernelspec": {
      "name": "python3",
      "display_name": "Python 3"
    },
    "language_info": {
      "name": "python"
    }
  },
  "cells": [
    {
      "cell_type": "markdown",
      "metadata": {
        "id": "view-in-github",
        "colab_type": "text"
      },
      "source": [
        "<a href=\"https://colab.research.google.com/github/Maria-arroyo18/Integracion-de-datos2025/blob/main/1_Caracterizaci%C3%B3n_VA.ipynb\" target=\"_parent\"><img src=\"https://colab.research.google.com/assets/colab-badge.svg\" alt=\"Open In Colab\"/></a>"
      ]
    },
    {
      "cell_type": "markdown",
      "source": [
        "**Caracterización Experimental de Variables**\n",
        "\n",
        "0. Cargar las líbrerias de trabajo"
      ],
      "metadata": {
        "id": "pdr8N5AseXn_"
      }
    },
    {
      "cell_type": "code",
      "execution_count": 1,
      "metadata": {
        "colab": {
          "base_uri": "https://localhost:8080/"
        },
        "id": "p1yL5vCDW1K3",
        "outputId": "e835f5d1-5e6c-4355-b2bb-dc66d974a213"
      },
      "outputs": [
        {
          "output_type": "stream",
          "name": "stdout",
          "text": [
            "Mounted at /content/drive\n"
          ]
        }
      ],
      "source": [
        "import numpy as np #Funciones Númericas\n",
        "import matplotlib.pyplot as plt\n",
        "import pandas as pd #Comunicación Excel\n",
        "import seaborn as sns #Líbreria para la gráfica de distribuciones\n",
        "\n",
        "#Para carga automática de los datos\n",
        "from google.colab import drive #Cargar datos desde drive automáticamente\n",
        "drive.mount('/content/drive')  #Conecta el drive al colab"
      ]
    },
    {
      "cell_type": "markdown",
      "source": [
        "1. Se procede con la carga de los datos"
      ],
      "metadata": {
        "id": "D4nKnwp4gn_v"
      }
    },
    {
      "cell_type": "code",
      "source": [
        "nxl = \"/content/drive/MyDrive/Integración/3. FallasTecnologicas (1).xlsx\"\n",
        "XDB= pd.read_excel(nxl, sheet_name=0)\n",
        "XDB.head(10) #Mostrar los primeros 10 datos"
      ],
      "metadata": {
        "colab": {
          "base_uri": "https://localhost:8080/",
          "height": 363
        },
        "id": "-gK7mqKljba5",
        "outputId": "a50a4149-682a-4362-e97a-97ec10e111a6"
      },
      "execution_count": 2,
      "outputs": [
        {
          "output_type": "execute_result",
          "data": {
            "text/plain": [
              "      Fechas  Eventos  Transaccion Promedio  Eventos-Fallo  Pérdida Promedio\n",
              "0   Semana 1       80               14.8058              1            0.5374\n",
              "1   Semana 2      105               56.4721              4            1.1978\n",
              "2   Semana 3       70                9.9760              5            0.4269\n",
              "3   Semana 4      105               18.2949              6            1.0814\n",
              "4   Semana 5      130               23.4112              7            1.2105\n",
              "5   Semana 6      100               31.5177              3            0.2363\n",
              "6   Semana 7      115               29.5603              1            0.2737\n",
              "7   Semana 8       90               36.4063              8           12.4245\n",
              "8   Semana 9      105                9.3552              1            2.3869\n",
              "9  Semana 10       85               23.7019              7            0.3098"
            ],
            "text/html": [
              "\n",
              "  <div id=\"df-a27bc526-882b-4fc7-b9fd-6cc7de312c2d\" class=\"colab-df-container\">\n",
              "    <div>\n",
              "<style scoped>\n",
              "    .dataframe tbody tr th:only-of-type {\n",
              "        vertical-align: middle;\n",
              "    }\n",
              "\n",
              "    .dataframe tbody tr th {\n",
              "        vertical-align: top;\n",
              "    }\n",
              "\n",
              "    .dataframe thead th {\n",
              "        text-align: right;\n",
              "    }\n",
              "</style>\n",
              "<table border=\"1\" class=\"dataframe\">\n",
              "  <thead>\n",
              "    <tr style=\"text-align: right;\">\n",
              "      <th></th>\n",
              "      <th>Fechas</th>\n",
              "      <th>Eventos</th>\n",
              "      <th>Transaccion Promedio</th>\n",
              "      <th>Eventos-Fallo</th>\n",
              "      <th>Pérdida Promedio</th>\n",
              "    </tr>\n",
              "  </thead>\n",
              "  <tbody>\n",
              "    <tr>\n",
              "      <th>0</th>\n",
              "      <td>Semana 1</td>\n",
              "      <td>80</td>\n",
              "      <td>14.8058</td>\n",
              "      <td>1</td>\n",
              "      <td>0.5374</td>\n",
              "    </tr>\n",
              "    <tr>\n",
              "      <th>1</th>\n",
              "      <td>Semana 2</td>\n",
              "      <td>105</td>\n",
              "      <td>56.4721</td>\n",
              "      <td>4</td>\n",
              "      <td>1.1978</td>\n",
              "    </tr>\n",
              "    <tr>\n",
              "      <th>2</th>\n",
              "      <td>Semana 3</td>\n",
              "      <td>70</td>\n",
              "      <td>9.9760</td>\n",
              "      <td>5</td>\n",
              "      <td>0.4269</td>\n",
              "    </tr>\n",
              "    <tr>\n",
              "      <th>3</th>\n",
              "      <td>Semana 4</td>\n",
              "      <td>105</td>\n",
              "      <td>18.2949</td>\n",
              "      <td>6</td>\n",
              "      <td>1.0814</td>\n",
              "    </tr>\n",
              "    <tr>\n",
              "      <th>4</th>\n",
              "      <td>Semana 5</td>\n",
              "      <td>130</td>\n",
              "      <td>23.4112</td>\n",
              "      <td>7</td>\n",
              "      <td>1.2105</td>\n",
              "    </tr>\n",
              "    <tr>\n",
              "      <th>5</th>\n",
              "      <td>Semana 6</td>\n",
              "      <td>100</td>\n",
              "      <td>31.5177</td>\n",
              "      <td>3</td>\n",
              "      <td>0.2363</td>\n",
              "    </tr>\n",
              "    <tr>\n",
              "      <th>6</th>\n",
              "      <td>Semana 7</td>\n",
              "      <td>115</td>\n",
              "      <td>29.5603</td>\n",
              "      <td>1</td>\n",
              "      <td>0.2737</td>\n",
              "    </tr>\n",
              "    <tr>\n",
              "      <th>7</th>\n",
              "      <td>Semana 8</td>\n",
              "      <td>90</td>\n",
              "      <td>36.4063</td>\n",
              "      <td>8</td>\n",
              "      <td>12.4245</td>\n",
              "    </tr>\n",
              "    <tr>\n",
              "      <th>8</th>\n",
              "      <td>Semana 9</td>\n",
              "      <td>105</td>\n",
              "      <td>9.3552</td>\n",
              "      <td>1</td>\n",
              "      <td>2.3869</td>\n",
              "    </tr>\n",
              "    <tr>\n",
              "      <th>9</th>\n",
              "      <td>Semana 10</td>\n",
              "      <td>85</td>\n",
              "      <td>23.7019</td>\n",
              "      <td>7</td>\n",
              "      <td>0.3098</td>\n",
              "    </tr>\n",
              "  </tbody>\n",
              "</table>\n",
              "</div>\n",
              "    <div class=\"colab-df-buttons\">\n",
              "\n",
              "  <div class=\"colab-df-container\">\n",
              "    <button class=\"colab-df-convert\" onclick=\"convertToInteractive('df-a27bc526-882b-4fc7-b9fd-6cc7de312c2d')\"\n",
              "            title=\"Convert this dataframe to an interactive table.\"\n",
              "            style=\"display:none;\">\n",
              "\n",
              "  <svg xmlns=\"http://www.w3.org/2000/svg\" height=\"24px\" viewBox=\"0 -960 960 960\">\n",
              "    <path d=\"M120-120v-720h720v720H120Zm60-500h600v-160H180v160Zm220 220h160v-160H400v160Zm0 220h160v-160H400v160ZM180-400h160v-160H180v160Zm440 0h160v-160H620v160ZM180-180h160v-160H180v160Zm440 0h160v-160H620v160Z\"/>\n",
              "  </svg>\n",
              "    </button>\n",
              "\n",
              "  <style>\n",
              "    .colab-df-container {\n",
              "      display:flex;\n",
              "      gap: 12px;\n",
              "    }\n",
              "\n",
              "    .colab-df-convert {\n",
              "      background-color: #E8F0FE;\n",
              "      border: none;\n",
              "      border-radius: 50%;\n",
              "      cursor: pointer;\n",
              "      display: none;\n",
              "      fill: #1967D2;\n",
              "      height: 32px;\n",
              "      padding: 0 0 0 0;\n",
              "      width: 32px;\n",
              "    }\n",
              "\n",
              "    .colab-df-convert:hover {\n",
              "      background-color: #E2EBFA;\n",
              "      box-shadow: 0px 1px 2px rgba(60, 64, 67, 0.3), 0px 1px 3px 1px rgba(60, 64, 67, 0.15);\n",
              "      fill: #174EA6;\n",
              "    }\n",
              "\n",
              "    .colab-df-buttons div {\n",
              "      margin-bottom: 4px;\n",
              "    }\n",
              "\n",
              "    [theme=dark] .colab-df-convert {\n",
              "      background-color: #3B4455;\n",
              "      fill: #D2E3FC;\n",
              "    }\n",
              "\n",
              "    [theme=dark] .colab-df-convert:hover {\n",
              "      background-color: #434B5C;\n",
              "      box-shadow: 0px 1px 3px 1px rgba(0, 0, 0, 0.15);\n",
              "      filter: drop-shadow(0px 1px 2px rgba(0, 0, 0, 0.3));\n",
              "      fill: #FFFFFF;\n",
              "    }\n",
              "  </style>\n",
              "\n",
              "    <script>\n",
              "      const buttonEl =\n",
              "        document.querySelector('#df-a27bc526-882b-4fc7-b9fd-6cc7de312c2d button.colab-df-convert');\n",
              "      buttonEl.style.display =\n",
              "        google.colab.kernel.accessAllowed ? 'block' : 'none';\n",
              "\n",
              "      async function convertToInteractive(key) {\n",
              "        const element = document.querySelector('#df-a27bc526-882b-4fc7-b9fd-6cc7de312c2d');\n",
              "        const dataTable =\n",
              "          await google.colab.kernel.invokeFunction('convertToInteractive',\n",
              "                                                    [key], {});\n",
              "        if (!dataTable) return;\n",
              "\n",
              "        const docLinkHtml = 'Like what you see? Visit the ' +\n",
              "          '<a target=\"_blank\" href=https://colab.research.google.com/notebooks/data_table.ipynb>data table notebook</a>'\n",
              "          + ' to learn more about interactive tables.';\n",
              "        element.innerHTML = '';\n",
              "        dataTable['output_type'] = 'display_data';\n",
              "        await google.colab.output.renderOutput(dataTable, element);\n",
              "        const docLink = document.createElement('div');\n",
              "        docLink.innerHTML = docLinkHtml;\n",
              "        element.appendChild(docLink);\n",
              "      }\n",
              "    </script>\n",
              "  </div>\n",
              "\n",
              "\n",
              "<div id=\"df-5349a97a-54b9-4aee-8f31-8a233ff05c15\">\n",
              "  <button class=\"colab-df-quickchart\" onclick=\"quickchart('df-5349a97a-54b9-4aee-8f31-8a233ff05c15')\"\n",
              "            title=\"Suggest charts\"\n",
              "            style=\"display:none;\">\n",
              "\n",
              "<svg xmlns=\"http://www.w3.org/2000/svg\" height=\"24px\"viewBox=\"0 0 24 24\"\n",
              "     width=\"24px\">\n",
              "    <g>\n",
              "        <path d=\"M19 3H5c-1.1 0-2 .9-2 2v14c0 1.1.9 2 2 2h14c1.1 0 2-.9 2-2V5c0-1.1-.9-2-2-2zM9 17H7v-7h2v7zm4 0h-2V7h2v10zm4 0h-2v-4h2v4z\"/>\n",
              "    </g>\n",
              "</svg>\n",
              "  </button>\n",
              "\n",
              "<style>\n",
              "  .colab-df-quickchart {\n",
              "      --bg-color: #E8F0FE;\n",
              "      --fill-color: #1967D2;\n",
              "      --hover-bg-color: #E2EBFA;\n",
              "      --hover-fill-color: #174EA6;\n",
              "      --disabled-fill-color: #AAA;\n",
              "      --disabled-bg-color: #DDD;\n",
              "  }\n",
              "\n",
              "  [theme=dark] .colab-df-quickchart {\n",
              "      --bg-color: #3B4455;\n",
              "      --fill-color: #D2E3FC;\n",
              "      --hover-bg-color: #434B5C;\n",
              "      --hover-fill-color: #FFFFFF;\n",
              "      --disabled-bg-color: #3B4455;\n",
              "      --disabled-fill-color: #666;\n",
              "  }\n",
              "\n",
              "  .colab-df-quickchart {\n",
              "    background-color: var(--bg-color);\n",
              "    border: none;\n",
              "    border-radius: 50%;\n",
              "    cursor: pointer;\n",
              "    display: none;\n",
              "    fill: var(--fill-color);\n",
              "    height: 32px;\n",
              "    padding: 0;\n",
              "    width: 32px;\n",
              "  }\n",
              "\n",
              "  .colab-df-quickchart:hover {\n",
              "    background-color: var(--hover-bg-color);\n",
              "    box-shadow: 0 1px 2px rgba(60, 64, 67, 0.3), 0 1px 3px 1px rgba(60, 64, 67, 0.15);\n",
              "    fill: var(--button-hover-fill-color);\n",
              "  }\n",
              "\n",
              "  .colab-df-quickchart-complete:disabled,\n",
              "  .colab-df-quickchart-complete:disabled:hover {\n",
              "    background-color: var(--disabled-bg-color);\n",
              "    fill: var(--disabled-fill-color);\n",
              "    box-shadow: none;\n",
              "  }\n",
              "\n",
              "  .colab-df-spinner {\n",
              "    border: 2px solid var(--fill-color);\n",
              "    border-color: transparent;\n",
              "    border-bottom-color: var(--fill-color);\n",
              "    animation:\n",
              "      spin 1s steps(1) infinite;\n",
              "  }\n",
              "\n",
              "  @keyframes spin {\n",
              "    0% {\n",
              "      border-color: transparent;\n",
              "      border-bottom-color: var(--fill-color);\n",
              "      border-left-color: var(--fill-color);\n",
              "    }\n",
              "    20% {\n",
              "      border-color: transparent;\n",
              "      border-left-color: var(--fill-color);\n",
              "      border-top-color: var(--fill-color);\n",
              "    }\n",
              "    30% {\n",
              "      border-color: transparent;\n",
              "      border-left-color: var(--fill-color);\n",
              "      border-top-color: var(--fill-color);\n",
              "      border-right-color: var(--fill-color);\n",
              "    }\n",
              "    40% {\n",
              "      border-color: transparent;\n",
              "      border-right-color: var(--fill-color);\n",
              "      border-top-color: var(--fill-color);\n",
              "    }\n",
              "    60% {\n",
              "      border-color: transparent;\n",
              "      border-right-color: var(--fill-color);\n",
              "    }\n",
              "    80% {\n",
              "      border-color: transparent;\n",
              "      border-right-color: var(--fill-color);\n",
              "      border-bottom-color: var(--fill-color);\n",
              "    }\n",
              "    90% {\n",
              "      border-color: transparent;\n",
              "      border-bottom-color: var(--fill-color);\n",
              "    }\n",
              "  }\n",
              "</style>\n",
              "\n",
              "  <script>\n",
              "    async function quickchart(key) {\n",
              "      const quickchartButtonEl =\n",
              "        document.querySelector('#' + key + ' button');\n",
              "      quickchartButtonEl.disabled = true;  // To prevent multiple clicks.\n",
              "      quickchartButtonEl.classList.add('colab-df-spinner');\n",
              "      try {\n",
              "        const charts = await google.colab.kernel.invokeFunction(\n",
              "            'suggestCharts', [key], {});\n",
              "      } catch (error) {\n",
              "        console.error('Error during call to suggestCharts:', error);\n",
              "      }\n",
              "      quickchartButtonEl.classList.remove('colab-df-spinner');\n",
              "      quickchartButtonEl.classList.add('colab-df-quickchart-complete');\n",
              "    }\n",
              "    (() => {\n",
              "      let quickchartButtonEl =\n",
              "        document.querySelector('#df-5349a97a-54b9-4aee-8f31-8a233ff05c15 button');\n",
              "      quickchartButtonEl.style.display =\n",
              "        google.colab.kernel.accessAllowed ? 'block' : 'none';\n",
              "    })();\n",
              "  </script>\n",
              "</div>\n",
              "\n",
              "    </div>\n",
              "  </div>\n"
            ],
            "application/vnd.google.colaboratory.intrinsic+json": {
              "type": "dataframe",
              "variable_name": "XDB",
              "summary": "{\n  \"name\": \"XDB\",\n  \"rows\": 701,\n  \"fields\": [\n    {\n      \"column\": \"Fechas\",\n      \"properties\": {\n        \"dtype\": \"string\",\n        \"num_unique_values\": 701,\n        \"samples\": [\n          \"Semana 681\",\n          \"Semana 165\",\n          \"Semana 55\"\n        ],\n        \"semantic_type\": \"\",\n        \"description\": \"\"\n      }\n    },\n    {\n      \"column\": \"Eventos\",\n      \"properties\": {\n        \"dtype\": \"number\",\n        \"std\": 22,\n        \"min\": 35,\n        \"max\": 170,\n        \"num_unique_values\": 27,\n        \"samples\": [\n          135,\n          120,\n          75\n        ],\n        \"semantic_type\": \"\",\n        \"description\": \"\"\n      }\n    },\n    {\n      \"column\": \"Transaccion Promedio\",\n      \"properties\": {\n        \"dtype\": \"number\",\n        \"std\": 11.598670971622456,\n        \"min\": -9.9574,\n        \"max\": 59.5669,\n        \"num_unique_values\": 701,\n        \"samples\": [\n          11.6865,\n          38.9345,\n          26.5405\n        ],\n        \"semantic_type\": \"\",\n        \"description\": \"\"\n      }\n    },\n    {\n      \"column\": \"Eventos-Fallo\",\n      \"properties\": {\n        \"dtype\": \"number\",\n        \"std\": 2,\n        \"min\": 1,\n        \"max\": 16,\n        \"num_unique_values\": 15,\n        \"samples\": [\n          10,\n          11,\n          1\n        ],\n        \"semantic_type\": \"\",\n        \"description\": \"\"\n      }\n    },\n    {\n      \"column\": \"P\\u00e9rdida Promedio\",\n      \"properties\": {\n        \"dtype\": \"number\",\n        \"std\": 2.130130353380655,\n        \"min\": 0.0842,\n        \"max\": 17.3129,\n        \"num_unique_values\": 696,\n        \"samples\": [\n          1.2833,\n          0.5493,\n          5.4353\n        ],\n        \"semantic_type\": \"\",\n        \"description\": \"\"\n      }\n    }\n  ]\n}"
            }
          },
          "metadata": {},
          "execution_count": 2
        }
      ]
    },
    {
      "cell_type": "code",
      "source": [
        "#Tomamos las variables de interés\n",
        "Xev=XDB.iloc[:,3] #Variable eventos semanales\n",
        "Xsev=XDB.iloc[:,4] #Pérdidas promedio por evento\n",
        "LDA=np.multiply(Xev,Xsev) #Multiplicamos las variables\n",
        "\n",
        "#Gráficamos La Distribución de las Pérdidas\n",
        "plt.figure()\n",
        "sns.histplot(LDA,kde=True,bins=10, color=\"pink\")\n",
        "#bins: Agrupar los datos\n",
        "plt.legend([\"Distribución de Pérdidas\"])\n",
        "plt.show()"
      ],
      "metadata": {
        "colab": {
          "base_uri": "https://localhost:8080/",
          "height": 430
        },
        "id": "0zp9S9WugrJD",
        "outputId": "27ea4cef-db0b-40ce-d931-cc4a97b3ff5d"
      },
      "execution_count": 3,
      "outputs": [
        {
          "output_type": "display_data",
          "data": {
            "text/plain": [
              "<Figure size 640x480 with 1 Axes>"
            ],
            "image/png": "[encoded data removed]"
          },
          "metadata": {}
        }
      ]
    },
    {
      "cell_type": "markdown",
      "source": [
        "2. Caracterización de la Distribución de las Pérdidas"
      ],
      "metadata": {
        "id": "QYMBtNSElXtr"
      }
    },
    {
      "cell_type": "code",
      "source": [
        "counts,bin_edges=np.histogram(LDA,bins=10)\n",
        "print (\"Intervalos\") #Cuantos datos hay por intervalo\n",
        "print(bin_edges) #Limites de los Intervalos\n",
        "\n",
        "#Los valores centrales - marcas de clase\n",
        "mc=(bin_edges[:-1]+bin_edges[1:])/2\n",
        "print(\"Los valores centrales de la clase son:\\n\", mc)\n",
        "\n",
        "#Cuantos datos hay por intervalo\n",
        "fp=counts/sum(counts)\n",
        "print(\"Los datos por intervalos son:\\n\", fp)"
      ],
      "metadata": {
        "colab": {
          "base_uri": "https://localhost:8080/"
        },
        "id": "heqQsAlXldLw",
        "outputId": "d76dd6e3-e413-489d-972a-14b18bcd857f"
      },
      "execution_count": 4,
      "outputs": [
        {
          "output_type": "stream",
          "name": "stdout",
          "text": [
            "Intervalos\n",
            "[  0.1423   11.23637  22.33044  33.42451  44.51858  55.61265  66.70672\n",
            "  77.80079  88.89486  99.98893 111.083  ]\n",
            "Los valores centrales de la clase son:\n",
            " [  5.689335  16.783405  27.877475  38.971545  50.065615  61.159685\n",
            "  72.253755  83.347825  94.441895 105.535965]\n",
            "Los datos por intervalos son:\n",
            " [0.76034237 0.13266762 0.05278174 0.01997147 0.0128388  0.00713267\n",
            " 0.0042796  0.00713267 0.00142653 0.00142653]\n"
          ]
        }
      ]
    },
    {
      "cell_type": "code",
      "source": [
        "#2. Se procede con el calculo de las medidas de tendencia central\n",
        "#Media, Varianza, Coeficiente de Asimetría, Kurtosis.\n",
        "u=np.sum(np.multiply(mc,fp))\n",
        "print(\"La media de los datos es:\",u)"
      ],
      "metadata": {
        "colab": {
          "base_uri": "https://localhost:8080/"
        },
        "id": "AmZQYX-GoxZa",
        "outputId": "02ba8176-97b8-4cb5-ce8a-5318e63dc2f7"
      },
      "execution_count": 5,
      "outputs": [
        {
          "output_type": "stream",
          "name": "stdout",
          "text": [
            "La media de los datos es: 11.07019634094151\n"
          ]
        }
      ]
    },
    {
      "cell_type": "code",
      "source": [
        "#3. Desviación - Estándar (Varianza)\n",
        "var=np.sum(np.multiply((mc-u)**2,fp)) #Suma producto del Excel\n",
        "print(\"La varianza de los datos es:\",var)\n",
        "std=np.sqrt(var)\n",
        "print(\"La desviación estándar de los datos es:\",std)"
      ],
      "metadata": {
        "colab": {
          "base_uri": "https://localhost:8080/"
        },
        "id": "n-YBA10vqFqT",
        "outputId": "1e244ced-686b-48c1-ba2c-f3aa62e9e954"
      },
      "execution_count": 6,
      "outputs": [
        {
          "output_type": "stream",
          "name": "stdout",
          "text": [
            "La varianza de los datos es: 170.14888945066892\n",
            "La desviación estándar de los datos es: 13.044113210589247\n"
          ]
        }
      ]
    },
    {
      "cell_type": "code",
      "source": [
        "#4. Coeficiente de asimetría\n",
        "cas=np.sum(np.multiply(((mc-u)/std)**3,fp))\n",
        "print(\"El coeficiente de asimetría de los datos es:\",cas)"
      ],
      "metadata": {
        "colab": {
          "base_uri": "https://localhost:8080/"
        },
        "id": "rph53zWgrDfh",
        "outputId": "1c10d119-2cda-4396-b502-0aa2f0550c7b"
      },
      "execution_count": 7,
      "outputs": [
        {
          "output_type": "stream",
          "name": "stdout",
          "text": [
            "El coeficiente de asimetría de los datos es: 3.58241551867726\n"
          ]
        }
      ]
    },
    {
      "cell_type": "code",
      "source": [
        "#5. Coeficiente de Kurtosis\n",
        "ck=np.sum(np.multiply(((mc-u)/std)**4,fp))\n",
        "ck=ck-3\n",
        "print(\"El coeficiente de kurtosis de los datos es:\",ck)"
      ],
      "metadata": {
        "colab": {
          "base_uri": "https://localhost:8080/"
        },
        "id": "KhFuXtIdrqyo",
        "outputId": "fb31bf94-f30d-4013-a8a7-fadc2a9ecbd7"
      },
      "execution_count": 11,
      "outputs": [
        {
          "output_type": "stream",
          "name": "stdout",
          "text": [
            "El coeficiente de kurtosis de los datos es: 15.266617247076208\n"
          ]
        }
      ]
    },
    {
      "cell_type": "markdown",
      "source": [
        "**Análisis de Resultados**\n",
        "\n",
        "En la base de datos se cuenta con un total 701 registros de eventos de pérdida asociados con las operaciones a través de canales electrónicos de una FINITECH. Estos registros nos arrojan como resultado una confiabilidad en la estimación de los estadísticos del 99% de acuerdo con la teoría de los percentiles. En la grafica anterior podemos observar que la distribución presenta estructura de cola larga, esto promovido por un coeficiente de curtosis aproximadamente de 15 unidades, lo que indica que la mayoria de los datos se encuentras muy concentrados alrededor de la media, en un 76% aproximadamente. Esta estructura muestra claramente que los eventos de pérdida extremos son muy escasos, lo que indica una  baja exposición al riesgo."
      ],
      "metadata": {
        "id": "1gW1qMZVsfiI"
      }
    },
    {
      "cell_type": "markdown",
      "source": [
        "3. Se procede con el muestreo de la variable aleatoria de pérdidas"
      ],
      "metadata": {
        "id": "H7QWZ_pxuTkD"
      }
    },
    {
      "cell_type": "code",
      "source": [
        "from scipy.stats import skew, kurtosis"
      ],
      "metadata": {
        "id": "oO5XvlZ8cBz4"
      },
      "execution_count": 13,
      "outputs": []
    },
    {
      "cell_type": "code",
      "source": [
        "#0. Preparar la variable para el muestreo\n",
        "LDAdf =pd.DataFrame(LDA)\n",
        "#1. se procede con el muestreo - se vs s repetir el numero de los 349\n",
        "LDAs=LDAdf.sample(n=1000,replace=True)\n",
        "casd= skew(LDAs)\n",
        "print(\"El coeficiente de asimetría de los datos es:\",casd)\n",
        "\n",
        "ckd=kurtosis(LDAs)\n",
        "ckd=ckd-3\n",
        "print(\"El coeficiente de kurtosis de los datos es:\",ckd)"
      ],
      "metadata": {
        "colab": {
          "base_uri": "https://localhost:8080/"
        },
        "id": "2ZRwgdlDaNlm",
        "outputId": "600e8e42-cdc4-4a4d-e68c-7deb20295a61"
      },
      "execution_count": 14,
      "outputs": [
        {
          "output_type": "stream",
          "name": "stdout",
          "text": [
            "El coeficiente de asimetría de los datos es: [2.98413776]\n",
            "El coeficiente de kurtosis de los datos es: [7.75734781]\n"
          ]
        }
      ]
    },
    {
      "cell_type": "code",
      "source": [
        "pvcas = (cas-casd)/cas\n",
        "print(\"Variación del coeficiente de asimetría de los datos es:\",pvcas)\n",
        "\n",
        "pvkd = (ck-ckd)/ck\n",
        "print(\"Variación del coeficiente de kurtosis de los datos es:\",pvkd)"
      ],
      "metadata": {
        "colab": {
          "base_uri": "https://localhost:8080/"
        },
        "id": "_7o-8yyFcJ46",
        "outputId": "737a9d3d-9891-4261-8114-9daf336aaac9"
      },
      "execution_count": 16,
      "outputs": [
        {
          "output_type": "stream",
          "name": "stdout",
          "text": [
            "Variación del coeficiente de asimetría de los datos es: [0.16700401]\n",
            "Variación del coeficiente de kurtosis de los datos es: [0.49187514]\n"
          ]
        }
      ]
    },
    {
      "cell_type": "code",
      "source": [
        "#Se procede con la grafica de la distribución de las pérdidas\n",
        "plt.figure()\n",
        "sns.histplot(LDA,kde=True,bins=10, color=\"pink\")\n",
        "sns.histplot(LDAs,kde=True,bins=10, color=\"blue\")\n",
        "plt.legend([\"Diferencia entre Distribuciones de Pérdidas\"])\n",
        "plt.show()"
      ],
      "metadata": {
        "colab": {
          "base_uri": "https://localhost:8080/",
          "height": 430
        },
        "id": "MZVtZ4TWcuUn",
        "outputId": "e11a7401-c1a4-4fd2-87a8-79f8d5dcc8f9"
      },
      "execution_count": 21,
      "outputs": [
        {
          "output_type": "display_data",
          "data": {
            "text/plain": [
              "<Figure size 640x480 with 1 Axes>"
            ],
            "image/png": "[encoded data removed]"
          },
          "metadata": {}
        }
      ]
    },
    {
      "cell_type": "markdown",
      "source": [
        "**4. Mapeo de la distribución de probabilidad**"
      ],
      "metadata": {
        "id": "pDGsH19NaGrC"
      }
    },
    {
      "cell_type": "code",
      "source": [
        "if abs(cas)<0.5 and abs(ck)<0.5:\n",
        "  print(\"Posible distribución Normal\")\n",
        "\n",
        "elif cas>0 and ck>3:\n",
        "  if ck>=8:\n",
        "    print(\"Posible distribución Exponencial\")\n",
        "  elif ck>=6:\n",
        "    print(\"Posible distribución Gamma\")\n",
        "  else:\n",
        "    print(\"Posible distribución Weibull\")\n",
        "elif cas<0 and ck<3:\n",
        "  print(\"Posible distribución Beta\")\n",
        "elif ck<3:\n",
        "  print(\"Posible distribución Uniforme\")\n",
        "else:\n",
        "  print(\"No se puede determinar la distribución\")"
      ],
      "metadata": {
        "colab": {
          "base_uri": "https://localhost:8080/"
        },
        "id": "OMkiY2gohXYg",
        "outputId": "6be48221-e699-4848-ca60-6eb5c4f6e6bf"
      },
      "execution_count": 29,
      "outputs": [
        {
          "output_type": "stream",
          "name": "stdout",
          "text": [
            "Posible distribución Exponencial\n"
          ]
        }
      ]
    },
    {
      "cell_type": "markdown",
      "source": [
        "**Analisis de Resultados**\n",
        "\n",
        "El número de datos disponibles para este análisis fueron un total de 701 datos, lo que lo ubica en un confiabilidad del 99%. Para incrementar esta confiabilidad se procedio con un muestreo basado en el método de montecarlo (Giro de la ruleta - cargada) logrando en muchos casos coeficientes de curtosis y coeficientes de asimetría por debajo del 5% y coeficiente de curtosis del 15%, a diferencia del método sampling que utiliza la librería pandas los cuales tuvieron variaciones mayores a estos porcentajes. El método de montecarlo asegura variaciones mucho más bajas en estos coeficientes."
      ],
      "metadata": {
        "id": "x6xdi64tqcX3"
      }
    }
  ]
}