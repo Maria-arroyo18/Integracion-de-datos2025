{
  "nbformat": 4,
  "nbformat_minor": 0,
  "metadata": {
    "colab": {
      "provenance": [],
      "authorship_tag": "ABX9TyMv/nUhz/DX2w9KVtIySYQ0",
      "include_colab_link": true
    },
    "kernelspec": {
      "name": "python3",
      "display_name": "Python 3"
    },
    "language_info": {
      "name": "python"
    }
  },
  "cells": [
    {
      "cell_type": "markdown",
      "metadata": {
        "id": "view-in-github",
        "colab_type": "text"
      },
      "source": [
        "<a href=\"https://colab.research.google.com/github/Maria-arroyo18/Integracion-de-datos2025/blob/main/2_1POO_Clase.ipynb\" target=\"_parent\"><img src=\"https://colab.research.google.com/assets/colab-badge.svg\" alt=\"Open In Colab\"/></a>"
      ]
    },
    {
      "cell_type": "markdown",
      "source": [
        "#**Programación Orientada por Objetos**\n",
        "\n",
        "0. Se procede con la carga de las librerias"
      ],
      "metadata": {
        "id": "gFxQ5km9eo6v"
      }
    },
    {
      "cell_type": "code",
      "execution_count": 39,
      "metadata": {
        "colab": {
          "base_uri": "https://localhost:8080/"
        },
        "id": "sG1ZBcKrcgFx",
        "outputId": "78ace778-aa52-4bcd-ee4c-99f65fa20760"
      },
      "outputs": [
        {
          "output_type": "stream",
          "name": "stdout",
          "text": [
            "Drive already mounted at /content/drive; to attempt to forcibly remount, call drive.mount(\"/content/drive\", force_remount=True).\n"
          ]
        }
      ],
      "source": [
        "import numpy as np\n",
        "import pandas as pd\n",
        "import matplotlib.pyplot as plt\n",
        "import seaborn as sns\n",
        "from scipy.stats import skew,kurtosis #  Coeficiente de asimetría, Kurtosis\n",
        "\n",
        "from google.colab import drive\n",
        "drive.mount('/content/drive')"
      ]
    },
    {
      "cell_type": "markdown",
      "source": [
        "1. Se cargan los datos"
      ],
      "metadata": {
        "id": "qMsqiGCvflzm"
      }
    },
    {
      "cell_type": "code",
      "source": [
        "nkl = \"/content/drive/MyDrive/Integración/3. FallasTecnologicas (1).xlsx\"\n",
        "XDB = pd.read_excel(nkl, sheet_name=0)\n",
        "XDB.head(100)"
      ],
      "metadata": {
        "colab": {
          "base_uri": "https://localhost:8080/",
          "height": 424
        },
        "id": "mLnBs6JSfmV7",
        "outputId": "a384f117-15fc-404c-83f3-17feccb97e09"
      },
      "execution_count": 32,
      "outputs": [
        {
          "output_type": "execute_result",
          "data": {
            "text/plain": [
              "        Fechas  Eventos  Transaccion Promedio  Eventos-Fallo  Pérdida Promedio\n",
              "0     Semana 1       80               14.8058              1            0.5374\n",
              "1     Semana 2      105               56.4721              4            1.1978\n",
              "2     Semana 3       70                9.9760              5            0.4269\n",
              "3     Semana 4      105               18.2949              6            1.0814\n",
              "4     Semana 5      130               23.4112              7            1.2105\n",
              "..         ...      ...                   ...            ...               ...\n",
              "95   Semana 96      115               25.2722              1            1.3816\n",
              "96   Semana 97       75                8.8613              6            1.2785\n",
              "97   Semana 98       85               19.7139              1            0.6788\n",
              "98   Semana 99       80                1.4179              3           14.7925\n",
              "99  Semana 100       55               15.6509              2            2.3439\n",
              "\n",
              "[100 rows x 5 columns]"
            ],
            "text/html": [
              "\n",
              "  <div id=\"df-69f6c8bf-e66d-48d8-bf63-60517eaf14fd\" class=\"colab-df-container\">\n",
              "    <div>\n",
              "<style scoped>\n",
              "    .dataframe tbody tr th:only-of-type {\n",
              "        vertical-align: middle;\n",
              "    }\n",
              "\n",
              "    .dataframe tbody tr th {\n",
              "        vertical-align: top;\n",
              "    }\n",
              "\n",
              "    .dataframe thead th {\n",
              "        text-align: right;\n",
              "    }\n",
              "</style>\n",
              "<table border=\"1\" class=\"dataframe\">\n",
              "  <thead>\n",
              "    <tr style=\"text-align: right;\">\n",
              "      <th></th>\n",
              "      <th>Fechas</th>\n",
              "      <th>Eventos</th>\n",
              "      <th>Transaccion Promedio</th>\n",
              "      <th>Eventos-Fallo</th>\n",
              "      <th>Pérdida Promedio</th>\n",
              "    </tr>\n",
              "  </thead>\n",
              "  <tbody>\n",
              "    <tr>\n",
              "      <th>0</th>\n",
              "      <td>Semana 1</td>\n",
              "      <td>80</td>\n",
              "      <td>14.8058</td>\n",
              "      <td>1</td>\n",
              "      <td>0.5374</td>\n",
              "    </tr>\n",
              "    <tr>\n",
              "      <th>1</th>\n",
              "      <td>Semana 2</td>\n",
              "      <td>105</td>\n",
              "      <td>56.4721</td>\n",
              "      <td>4</td>\n",
              "      <td>1.1978</td>\n",
              "    </tr>\n",
              "    <tr>\n",
              "      <th>2</th>\n",
              "      <td>Semana 3</td>\n",
              "      <td>70</td>\n",
              "      <td>9.9760</td>\n",
              "      <td>5</td>\n",
              "      <td>0.4269</td>\n",
              "    </tr>\n",
              "    <tr>\n",
              "      <th>3</th>\n",
              "      <td>Semana 4</td>\n",
              "      <td>105</td>\n",
              "      <td>18.2949</td>\n",
              "      <td>6</td>\n",
              "      <td>1.0814</td>\n",
              "    </tr>\n",
              "    <tr>\n",
              "      <th>4</th>\n",
              "      <td>Semana 5</td>\n",
              "      <td>130</td>\n",
              "      <td>23.4112</td>\n",
              "      <td>7</td>\n",
              "      <td>1.2105</td>\n",
              "    </tr>\n",
              "    <tr>\n",
              "      <th>...</th>\n",
              "      <td>...</td>\n",
              "      <td>...</td>\n",
              "      <td>...</td>\n",
              "      <td>...</td>\n",
              "      <td>...</td>\n",
              "    </tr>\n",
              "    <tr>\n",
              "      <th>95</th>\n",
              "      <td>Semana 96</td>\n",
              "      <td>115</td>\n",
              "      <td>25.2722</td>\n",
              "      <td>1</td>\n",
              "      <td>1.3816</td>\n",
              "    </tr>\n",
              "    <tr>\n",
              "      <th>96</th>\n",
              "      <td>Semana 97</td>\n",
              "      <td>75</td>\n",
              "      <td>8.8613</td>\n",
              "      <td>6</td>\n",
              "      <td>1.2785</td>\n",
              "    </tr>\n",
              "    <tr>\n",
              "      <th>97</th>\n",
              "      <td>Semana 98</td>\n",
              "      <td>85</td>\n",
              "      <td>19.7139</td>\n",
              "      <td>1</td>\n",
              "      <td>0.6788</td>\n",
              "    </tr>\n",
              "    <tr>\n",
              "      <th>98</th>\n",
              "      <td>Semana 99</td>\n",
              "      <td>80</td>\n",
              "      <td>1.4179</td>\n",
              "      <td>3</td>\n",
              "      <td>14.7925</td>\n",
              "    </tr>\n",
              "    <tr>\n",
              "      <th>99</th>\n",
              "      <td>Semana 100</td>\n",
              "      <td>55</td>\n",
              "      <td>15.6509</td>\n",
              "      <td>2</td>\n",
              "      <td>2.3439</td>\n",
              "    </tr>\n",
              "  </tbody>\n",
              "</table>\n",
              "<p>100 rows × 5 columns</p>\n",
              "</div>\n",
              "    <div class=\"colab-df-buttons\">\n",
              "\n",
              "  <div class=\"colab-df-container\">\n",
              "    <button class=\"colab-df-convert\" onclick=\"convertToInteractive('df-69f6c8bf-e66d-48d8-bf63-60517eaf14fd')\"\n",
              "            title=\"Convert this dataframe to an interactive table.\"\n",
              "            style=\"display:none;\">\n",
              "\n",
              "  <svg xmlns=\"http://www.w3.org/2000/svg\" height=\"24px\" viewBox=\"0 -960 960 960\">\n",
              "    <path d=\"M120-120v-720h720v720H120Zm60-500h600v-160H180v160Zm220 220h160v-160H400v160Zm0 220h160v-160H400v160ZM180-400h160v-160H180v160Zm440 0h160v-160H620v160ZM180-180h160v-160H180v160Zm440 0h160v-160H620v160Z\"/>\n",
              "  </svg>\n",
              "    </button>\n",
              "\n",
              "  <style>\n",
              "    .colab-df-container {\n",
              "      display:flex;\n",
              "      gap: 12px;\n",
              "    }\n",
              "\n",
              "    .colab-df-convert {\n",
              "      background-color: #E8F0FE;\n",
              "      border: none;\n",
              "      border-radius: 50%;\n",
              "      cursor: pointer;\n",
              "      display: none;\n",
              "      fill: #1967D2;\n",
              "      height: 32px;\n",
              "      padding: 0 0 0 0;\n",
              "      width: 32px;\n",
              "    }\n",
              "\n",
              "    .colab-df-convert:hover {\n",
              "      background-color: #E2EBFA;\n",
              "      box-shadow: 0px 1px 2px rgba(60, 64, 67, 0.3), 0px 1px 3px 1px rgba(60, 64, 67, 0.15);\n",
              "      fill: #174EA6;\n",
              "    }\n",
              "\n",
              "    .colab-df-buttons div {\n",
              "      margin-bottom: 4px;\n",
              "    }\n",
              "\n",
              "    [theme=dark] .colab-df-convert {\n",
              "      background-color: #3B4455;\n",
              "      fill: #D2E3FC;\n",
              "    }\n",
              "\n",
              "    [theme=dark] .colab-df-convert:hover {\n",
              "      background-color: #434B5C;\n",
              "      box-shadow: 0px 1px 3px 1px rgba(0, 0, 0, 0.15);\n",
              "      filter: drop-shadow(0px 1px 2px rgba(0, 0, 0, 0.3));\n",
              "      fill: #FFFFFF;\n",
              "    }\n",
              "  </style>\n",
              "\n",
              "    <script>\n",
              "      const buttonEl =\n",
              "        document.querySelector('#df-69f6c8bf-e66d-48d8-bf63-60517eaf14fd button.colab-df-convert');\n",
              "      buttonEl.style.display =\n",
              "        google.colab.kernel.accessAllowed ? 'block' : 'none';\n",
              "\n",
              "      async function convertToInteractive(key) {\n",
              "        const element = document.querySelector('#df-69f6c8bf-e66d-48d8-bf63-60517eaf14fd');\n",
              "        const dataTable =\n",
              "          await google.colab.kernel.invokeFunction('convertToInteractive',\n",
              "                                                    [key], {});\n",
              "        if (!dataTable) return;\n",
              "\n",
              "        const docLinkHtml = 'Like what you see? Visit the ' +\n",
              "          '<a target=\"_blank\" href=https://colab.research.google.com/notebooks/data_table.ipynb>data table notebook</a>'\n",
              "          + ' to learn more about interactive tables.';\n",
              "        element.innerHTML = '';\n",
              "        dataTable['output_type'] = 'display_data';\n",
              "        await google.colab.output.renderOutput(dataTable, element);\n",
              "        const docLink = document.createElement('div');\n",
              "        docLink.innerHTML = docLinkHtml;\n",
              "        element.appendChild(docLink);\n",
              "      }\n",
              "    </script>\n",
              "  </div>\n",
              "\n",
              "\n",
              "<div id=\"df-f59acac3-d402-4f75-a66b-9fea62add9a7\">\n",
              "  <button class=\"colab-df-quickchart\" onclick=\"quickchart('df-f59acac3-d402-4f75-a66b-9fea62add9a7')\"\n",
              "            title=\"Suggest charts\"\n",
              "            style=\"display:none;\">\n",
              "\n",
              "<svg xmlns=\"http://www.w3.org/2000/svg\" height=\"24px\"viewBox=\"0 0 24 24\"\n",
              "     width=\"24px\">\n",
              "    <g>\n",
              "        <path d=\"M19 3H5c-1.1 0-2 .9-2 2v14c0 1.1.9 2 2 2h14c1.1 0 2-.9 2-2V5c0-1.1-.9-2-2-2zM9 17H7v-7h2v7zm4 0h-2V7h2v10zm4 0h-2v-4h2v4z\"/>\n",
              "    </g>\n",
              "</svg>\n",
              "  </button>\n",
              "\n",
              "<style>\n",
              "  .colab-df-quickchart {\n",
              "      --bg-color: #E8F0FE;\n",
              "      --fill-color: #1967D2;\n",
              "      --hover-bg-color: #E2EBFA;\n",
              "      --hover-fill-color: #174EA6;\n",
              "      --disabled-fill-color: #AAA;\n",
              "      --disabled-bg-color: #DDD;\n",
              "  }\n",
              "\n",
              "  [theme=dark] .colab-df-quickchart {\n",
              "      --bg-color: #3B4455;\n",
              "      --fill-color: #D2E3FC;\n",
              "      --hover-bg-color: #434B5C;\n",
              "      --hover-fill-color: #FFFFFF;\n",
              "      --disabled-bg-color: #3B4455;\n",
              "      --disabled-fill-color: #666;\n",
              "  }\n",
              "\n",
              "  .colab-df-quickchart {\n",
              "    background-color: var(--bg-color);\n",
              "    border: none;\n",
              "    border-radius: 50%;\n",
              "    cursor: pointer;\n",
              "    display: none;\n",
              "    fill: var(--fill-color);\n",
              "    height: 32px;\n",
              "    padding: 0;\n",
              "    width: 32px;\n",
              "  }\n",
              "\n",
              "  .colab-df-quickchart:hover {\n",
              "    background-color: var(--hover-bg-color);\n",
              "    box-shadow: 0 1px 2px rgba(60, 64, 67, 0.3), 0 1px 3px 1px rgba(60, 64, 67, 0.15);\n",
              "    fill: var(--button-hover-fill-color);\n",
              "  }\n",
              "\n",
              "  .colab-df-quickchart-complete:disabled,\n",
              "  .colab-df-quickchart-complete:disabled:hover {\n",
              "    background-color: var(--disabled-bg-color);\n",
              "    fill: var(--disabled-fill-color);\n",
              "    box-shadow: none;\n",
              "  }\n",
              "\n",
              "  .colab-df-spinner {\n",
              "    border: 2px solid var(--fill-color);\n",
              "    border-color: transparent;\n",
              "    border-bottom-color: var(--fill-color);\n",
              "    animation:\n",
              "      spin 1s steps(1) infinite;\n",
              "  }\n",
              "\n",
              "  @keyframes spin {\n",
              "    0% {\n",
              "      border-color: transparent;\n",
              "      border-bottom-color: var(--fill-color);\n",
              "      border-left-color: var(--fill-color);\n",
              "    }\n",
              "    20% {\n",
              "      border-color: transparent;\n",
              "      border-left-color: var(--fill-color);\n",
              "      border-top-color: var(--fill-color);\n",
              "    }\n",
              "    30% {\n",
              "      border-color: transparent;\n",
              "      border-left-color: var(--fill-color);\n",
              "      border-top-color: var(--fill-color);\n",
              "      border-right-color: var(--fill-color);\n",
              "    }\n",
              "    40% {\n",
              "      border-color: transparent;\n",
              "      border-right-color: var(--fill-color);\n",
              "      border-top-color: var(--fill-color);\n",
              "    }\n",
              "    60% {\n",
              "      border-color: transparent;\n",
              "      border-right-color: var(--fill-color);\n",
              "    }\n",
              "    80% {\n",
              "      border-color: transparent;\n",
              "      border-right-color: var(--fill-color);\n",
              "      border-bottom-color: var(--fill-color);\n",
              "    }\n",
              "    90% {\n",
              "      border-color: transparent;\n",
              "      border-bottom-color: var(--fill-color);\n",
              "    }\n",
              "  }\n",
              "</style>\n",
              "\n",
              "  <script>\n",
              "    async function quickchart(key) {\n",
              "      const quickchartButtonEl =\n",
              "        document.querySelector('#' + key + ' button');\n",
              "      quickchartButtonEl.disabled = true;  // To prevent multiple clicks.\n",
              "      quickchartButtonEl.classList.add('colab-df-spinner');\n",
              "      try {\n",
              "        const charts = await google.colab.kernel.invokeFunction(\n",
              "            'suggestCharts', [key], {});\n",
              "      } catch (error) {\n",
              "        console.error('Error during call to suggestCharts:', error);\n",
              "      }\n",
              "      quickchartButtonEl.classList.remove('colab-df-spinner');\n",
              "      quickchartButtonEl.classList.add('colab-df-quickchart-complete');\n",
              "    }\n",
              "    (() => {\n",
              "      let quickchartButtonEl =\n",
              "        document.querySelector('#df-f59acac3-d402-4f75-a66b-9fea62add9a7 button');\n",
              "      quickchartButtonEl.style.display =\n",
              "        google.colab.kernel.accessAllowed ? 'block' : 'none';\n",
              "    })();\n",
              "  </script>\n",
              "</div>\n",
              "\n",
              "    </div>\n",
              "  </div>\n"
            ],
            "application/vnd.google.colaboratory.intrinsic+json": {
              "type": "dataframe",
              "variable_name": "XDB",
              "summary": "{\n  \"name\": \"XDB\",\n  \"rows\": 701,\n  \"fields\": [\n    {\n      \"column\": \"Fechas\",\n      \"properties\": {\n        \"dtype\": \"string\",\n        \"num_unique_values\": 701,\n        \"samples\": [\n          \"Semana 681\",\n          \"Semana 165\",\n          \"Semana 55\"\n        ],\n        \"semantic_type\": \"\",\n        \"description\": \"\"\n      }\n    },\n    {\n      \"column\": \"Eventos\",\n      \"properties\": {\n        \"dtype\": \"number\",\n        \"std\": 22,\n        \"min\": 35,\n        \"max\": 170,\n        \"num_unique_values\": 27,\n        \"samples\": [\n          135,\n          120,\n          75\n        ],\n        \"semantic_type\": \"\",\n        \"description\": \"\"\n      }\n    },\n    {\n      \"column\": \"Transaccion Promedio\",\n      \"properties\": {\n        \"dtype\": \"number\",\n        \"std\": 11.598670971622456,\n        \"min\": -9.9574,\n        \"max\": 59.5669,\n        \"num_unique_values\": 701,\n        \"samples\": [\n          11.6865,\n          38.9345,\n          26.5405\n        ],\n        \"semantic_type\": \"\",\n        \"description\": \"\"\n      }\n    },\n    {\n      \"column\": \"Eventos-Fallo\",\n      \"properties\": {\n        \"dtype\": \"number\",\n        \"std\": 2,\n        \"min\": 1,\n        \"max\": 16,\n        \"num_unique_values\": 15,\n        \"samples\": [\n          10,\n          11,\n          1\n        ],\n        \"semantic_type\": \"\",\n        \"description\": \"\"\n      }\n    },\n    {\n      \"column\": \"P\\u00e9rdida Promedio\",\n      \"properties\": {\n        \"dtype\": \"number\",\n        \"std\": 2.130130353380655,\n        \"min\": 0.0842,\n        \"max\": 17.3129,\n        \"num_unique_values\": 696,\n        \"samples\": [\n          1.2833,\n          0.5493,\n          5.4353\n        ],\n        \"semantic_type\": \"\",\n        \"description\": \"\"\n      }\n    }\n  ]\n}"
            }
          },
          "metadata": {},
          "execution_count": 32
        }
      ]
    },
    {
      "cell_type": "code",
      "source": [
        "Xf =XDB.iloc[:,3]\n",
        "Xs = XDB.iloc[:,4]\n",
        "LDA = np.multiply(Xf,Xs) #Este es el producto entre las dos variables\n",
        "dfLDA=pd.DataFrame(LDA) #Guardamos los datos en una tabla"
      ],
      "metadata": {
        "id": "aEaD3Sx9hSm1"
      },
      "execution_count": 33,
      "outputs": []
    },
    {
      "cell_type": "markdown",
      "source": [
        "2. Se procede con el muestreo de la variable aleatoria"
      ],
      "metadata": {
        "id": "8At4gcdxhlQM"
      }
    },
    {
      "cell_type": "code",
      "source": [
        "#Se hace el muestreo a 100 datos\n",
        "LDA100= dfLDA.sample(n=100, replace=False)\n",
        "media100 = np.mean(LDA100)\n",
        "print(\"La media de los datos es:\",media100)"
      ],
      "metadata": {
        "colab": {
          "base_uri": "https://localhost:8080/"
        },
        "id": "T0EquqhKhqzC",
        "outputId": "f8278fcc-7aa6-445f-a7b6-3fbc58107a75"
      },
      "execution_count": 34,
      "outputs": [
        {
          "output_type": "stream",
          "name": "stdout",
          "text": [
            "La media de los datos es: 8.821608\n"
          ]
        }
      ]
    },
    {
      "cell_type": "code",
      "source": [
        "plt.figure()\n",
        "sns.histplot(LDA100, kde=True)\n",
        "plt.show()"
      ],
      "metadata": {
        "colab": {
          "base_uri": "https://localhost:8080/",
          "height": 430
        },
        "id": "mUo1gZayicve",
        "outputId": "853cf0e1-1185-4795-ffc0-6cfb6a05478b"
      },
      "execution_count": 35,
      "outputs": [
        {
          "output_type": "display_data",
          "data": {
            "text/plain": [
              "<Figure size 640x480 with 1 Axes>"
            ],
            "image/png": "[encoded data removed]"
          },
          "metadata": {}
        }
      ]
    },
    {
      "cell_type": "markdown",
      "source": [
        "3. Se crea la función muestreo"
      ],
      "metadata": {
        "id": "_7eFafL0jSgz"
      }
    },
    {
      "cell_type": "code",
      "source": [
        "def muestreo(ND, dfLDA,p):\n",
        "  #ND: Número de datos de muestreo\n",
        "  #dfLDA: Son los datos enviados al método\n",
        "  #Método: forma de hacer las cosas\n",
        "  #p: es la\n",
        "\n",
        "  LDAm=dfLDA.sample(n=ND, replace=True)\n",
        "  media = np.mean(LDAm)\n",
        "  LI= media+1.96*np.std(LDAm)\n",
        "  LS= media-1.96*np.std(LDAm)\n",
        "\n",
        "  plt.figure()\n",
        "  sns.histplot(LDAm, kde=True)\n",
        "  plt.show()\n",
        "\n",
        "  cas= skew(LDAm)\n",
        "  ck= kurtosis(LDAm)\n",
        "\n",
        "  ek2=((1.96**2)*p*(1-p)/ND)\n",
        "\n",
        "  return media,LDAm,LI,LS,cas,ck,ek2 #Que quiero que esto me arroje: Variables de Salida\n",
        "                    #Este método me entrega la media, y los datos muestreados"
      ],
      "metadata": {
        "id": "xLntEdztjWAx"
      },
      "execution_count": 87,
      "outputs": []
    },
    {
      "cell_type": "code",
      "source": [
        "def tipodist(cas, ck):\n",
        "    if abs(cas) < 0.5 and abs(ck) < 0.5:\n",
        "        tpdst = \"Posible distribución Normal\"\n",
        "    elif cas > 0 and ck > 3:\n",
        "        # Correctly indent the code inside this block\n",
        "        if ck >= 8:\n",
        "            tpdst = \"Posible distribución Exponencial\"\n",
        "        elif ck >= 6:\n",
        "            tpdst = \"Posible distribución Gamma\"\n",
        "        else:\n",
        "            tpdst = \"Posible distribución Weibull\"\n",
        "    elif cas < 0 and ck < 3:\n",
        "        tpdst = \"Posible distribución Beta\"\n",
        "    elif ck < 3:\n",
        "        tpdst = \"Posible distribución Uniforme\"\n",
        "    else:\n",
        "        tpdst = \"No se puede determinar la distribución\"\n",
        "    return tpdst  # nos va a entregar el tipo de distribucion"
      ],
      "metadata": {
        "id": "FHKKlIefrE5f"
      },
      "execution_count": 77,
      "outputs": []
    },
    {
      "cell_type": "markdown",
      "source": [
        "4. Procedemos con el muestreo"
      ],
      "metadata": {
        "id": "px_tzuQykkgf"
      }
    },
    {
      "cell_type": "code",
      "source": [
        "#Muestreo a una confiabilidad el 99%\n",
        "media99,LDAm99,LI99,LS99,cas99,ck99,ek299= muestreo(100,dfLDA,0.99)\n",
        "print(\"La media de los datos es:\",media99)\n",
        "print(\"El limite inferior es:\",LI99)\n",
        "print(\"El limite superior es:\",LS99)\n",
        "print(\"El coeficiente de asimetría es:\",cas99)\n",
        "print(\"El coeficiente de curtosis es:\",ck99)\n",
        "print(\"El tipo de dsitribución es:\",tipodist(cas99,ck99))\n",
        "print(\"El error es de:\",ek299)"
      ],
      "metadata": {
        "colab": {
          "base_uri": "https://localhost:8080/",
          "height": 641
        },
        "id": "YbRqRfYKknPW",
        "outputId": "8f17558c-bd00-4433-e849-d04132708fdc"
      },
      "execution_count": 88,
      "outputs": [
        {
          "output_type": "stream",
          "name": "stderr",
          "text": [
            "/usr/local/lib/python3.11/dist-packages/numpy/core/fromnumeric.py:3643: FutureWarning: The behavior of DataFrame.std with axis=None is deprecated, in a future version this will reduce over both axes and return a scalar. To retain the old behavior, pass axis=0 (or do not pass axis)\n",
            "  return std(axis=axis, dtype=dtype, out=out, ddof=ddof, **kwargs)\n"
          ]
        },
        {
          "output_type": "display_data",
          "data": {
            "text/plain": [
              "<Figure size 640x480 with 1 Axes>"
            ],
            "image/png": "[encoded data removed]"
          },
          "metadata": {}
        },
        {
          "output_type": "stream",
          "name": "stdout",
          "text": [
            "La media de los datos es: 7.950196000000001\n",
            "El limite inferior es: 0    28.840546\n",
            "dtype: float64\n",
            "El limite superior es: 0   -12.940154\n",
            "dtype: float64\n",
            "El coeficiente de asimetría es: [2.40695406]\n",
            "El coeficiente de curtosis es: [6.10947336]\n",
            "El tipo de dsitribución es: Posible distribución Gamma\n",
            "El error es de: 0.00038031840000000023\n"
          ]
        }
      ]
    },
    {
      "cell_type": "code",
      "source": [
        "#Muestreo a una confiabilidad del 99,9%\n",
        "media999, LDAm999,LI999,LS999,cus999,kur999,ek2999= muestreo(1000,dfLDA,0.999)\n",
        "print(\"La media de los datos es:\",media999)\n",
        "print(\"El limite inferior es:\",LI999)\n",
        "print(\"El limite superior es:\",LS999)\n",
        "print(\"El coeficiente de asimetría es:\",cus999)\n",
        "print(\"El coeficiente de curtosis es:\",kur999)\n",
        "print(\"El tipo de dsitribución es:\",tipodist(cus999,kur999))\n",
        "print(\"El error es de:\",ek2999)"
      ],
      "metadata": {
        "colab": {
          "base_uri": "https://localhost:8080/",
          "height": 641
        },
        "id": "WY42K_hDpdNQ",
        "outputId": "bef34837-b039-468e-893b-cef65c229f7a"
      },
      "execution_count": 89,
      "outputs": [
        {
          "output_type": "stream",
          "name": "stderr",
          "text": [
            "/usr/local/lib/python3.11/dist-packages/numpy/core/fromnumeric.py:3643: FutureWarning: The behavior of DataFrame.std with axis=None is deprecated, in a future version this will reduce over both axes and return a scalar. To retain the old behavior, pass axis=0 (or do not pass axis)\n",
            "  return std(axis=axis, dtype=dtype, out=out, ddof=ddof, **kwargs)\n"
          ]
        },
        {
          "output_type": "display_data",
          "data": {
            "text/plain": [
              "<Figure size 640x480 with 1 Axes>"
            ],
            "image/png": "[encoded data removed]"
          },
          "metadata": {}
        },
        {
          "output_type": "stream",
          "name": "stdout",
          "text": [
            "La media de los datos es: 9.2387756\n",
            "El limite inferior es: 0    34.623986\n",
            "dtype: float64\n",
            "El limite superior es: 0   -16.146435\n",
            "dtype: float64\n",
            "El coeficiente de asimetría es: [3.19305039]\n",
            "El coeficiente de curtosis es: [13.36233018]\n",
            "El tipo de dsitribución es: Posible distribución Exponencial\n",
            "El error es de: 3.837758400000003e-06\n"
          ]
        }
      ]
    },
    {
      "cell_type": "code",
      "source": [
        "#Muestreo a una confiabilidad del 99,99%\n",
        "media9999, LDAm9999,LI9999,LS9999,cas9999,kur9999,ek29999= muestreo(10000,dfLDA,0.9999)\n",
        "print(\"La media de los datos es:\",media9999)\n",
        "print(\"El limite inferior es:\",LI9999)\n",
        "print(\"El limite superior es:\",LS9999)\n",
        "print(\"El coeficiente de asimetría es:\",cas9999)\n",
        "print(\"El coeficiente de curtosis es:\",kur9999)\n",
        "print(\"El tipo de dsitribución es:\",tipodist(cas9999,kur9999))\n",
        "print(\"El error es de:\",ek29999)"
      ],
      "metadata": {
        "colab": {
          "base_uri": "https://localhost:8080/",
          "height": 642
        },
        "id": "x4FMB07ipfrZ",
        "outputId": "6a38504f-f7a2-4691-8ffd-4b8ab3304e36"
      },
      "execution_count": 90,
      "outputs": [
        {
          "output_type": "stream",
          "name": "stderr",
          "text": [
            "/usr/local/lib/python3.11/dist-packages/numpy/core/fromnumeric.py:3643: FutureWarning: The behavior of DataFrame.std with axis=None is deprecated, in a future version this will reduce over both axes and return a scalar. To retain the old behavior, pass axis=0 (or do not pass axis)\n",
            "  return std(axis=axis, dtype=dtype, out=out, ddof=ddof, **kwargs)\n"
          ]
        },
        {
          "output_type": "display_data",
          "data": {
            "text/plain": [
              "<Figure size 640x480 with 1 Axes>"
            ],
            "image/png": "[encoded data removed]"
          },
          "metadata": {}
        },
        {
          "output_type": "stream",
          "name": "stdout",
          "text": [
            "La media de los datos es: 9.459251309999999\n",
            "El limite inferior es: 0    36.240007\n",
            "dtype: float64\n",
            "El limite superior es: 0   -17.321505\n",
            "dtype: float64\n",
            "El coeficiente de asimetría es: [3.39202467]\n",
            "El coeficiente de curtosis es: [14.52873956]\n",
            "El tipo de dsitribución es: Posible distribución Exponencial\n",
            "El error es de: 3.841215839999577e-08\n"
          ]
        }
      ]
    }
  ]
}